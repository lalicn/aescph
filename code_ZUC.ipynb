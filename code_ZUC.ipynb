{
 "cells": [
  {
   "cell_type": "markdown",
   "metadata": {
    "collapsed": false
   },
   "source": [
    "## Common parameters for the AES\\-like cipher\n",
    "\n"
   ]
  },
  {
   "cell_type": "code",
   "execution_count": 1,
   "metadata": {
    "collapsed": false
   },
   "outputs": [
   ],
   "source": [
    "# We initialize the Galois field with the given prime p.\n",
    "# This field will be used to construct matrices and vectors, so that their\n",
    "# elements live in this field.\n",
    "p = 11\n",
    "field = GF(p)\n",
    "\n",
    "# We initialize the block size of the cipher, which will always be the same\n",
    "# for all kinds of instantiations.\n",
    "blocksize = 8\n",
    "\n",
    "# We initialize the matrix that will be used for the linear transformation\n",
    "# function.\n",
    "linear_transform_matrix = Matrix(field, [\n",
    "    [2, 5],\n",
    "    [1, 7],\n",
    "])"
   ]
  },
  {
   "cell_type": "markdown",
   "metadata": {
    "collapsed": false
   },
   "source": [
    "## AES\\-like cipher implementation \\(Tasks 1 & 2\\)\n",
    "\n"
   ]
  },
  {
   "cell_type": "code",
   "execution_count": 2,
   "metadata": {
    "collapsed": false
   },
   "outputs": [
   ],
   "source": [
    "# Subkey generation generic wrapper.\n",
    "def gen_subkey(master_key, round_num, gen_subkey_func):\n",
    "    return gen_subkey_func(master_key, round_num)\n",
    "\n",
    "# Subkey addition function.\n",
    "def add_subkey(state, subkey, inverse=False):\n",
    "    # We construct the round key by concatenating the given subkey with a\n",
    "    # copy of itself. Then, we add (or subtract) the round key to the state\n",
    "    # vector element by element.\n",
    "    round_key = vector(list(subkey) + list(subkey))\n",
    "    for i in range(len(state)):\n",
    "        if not inverse:\n",
    "            state[i] += round_key[i]\n",
    "        else:\n",
    "            state[i] -= round_key[i]\n",
    "    return state\n",
    "\n",
    "# Substitution function generic wrapper.\n",
    "def substitution(state, sub_func, inverse=False):\n",
    "    return sub_func(state, inverse)\n",
    "\n",
    "# Transposition function.\n",
    "# Note: this function is the inverse of itself.\n",
    "def transposition(state):\n",
    "    # We leave the first half of the state vector unchanged and reverse the\n",
    "    # second half. Finally, we stick the two halves back toghether.\n",
    "    first_half = list(state[0:blocksize/2])\n",
    "    second_half = list(reversed(state[blocksize/2:blocksize]))\n",
    "    return vector(first_half + second_half)\n",
    "\n",
    "# Linear transformation function.\n",
    "def linear(state, inverse=False):\n",
    "    # We transform the state vector by rows into a matrix, then we perform\n",
    "    # matrix-matrix multiplication with the linear transformation matrix.\n",
    "    # Finally, Transform the state matrix back into a vector, again by rows.\n",
    "    state_matrix = Matrix([state[0:4], state[4:8]])\n",
    "    if not inverse:\n",
    "        transform_matrix = linear_transform_matrix\n",
    "    else:\n",
    "        transform_matrix = linear_transform_matrix.inverse()\n",
    "    state_matrix = transform_matrix * state_matrix\n",
    "    return vector(list(state_matrix[0]) + list(state_matrix[1]))\n",
    "\n",
    "# Encryption function wrapper.\n",
    "def enc_aeslike(key, plaintext, gen_subkey_func, sub_func):\n",
    "    # First, we set plaintext as initial state vector.\n",
    "    state = copy(plaintext)\n",
    "    # We execute the first 4 rounds, applying for each round the following\n",
    "    # operations: KeyAddition, Substitution, Transposition, LinearTransformation.\n",
    "    for i in range(4):\n",
    "        ki = gen_subkey(key, i, gen_subkey_func)\n",
    "        state = add_subkey(state, ki)\n",
    "        state = substitution(state, sub_func)\n",
    "        state = transposition(state)\n",
    "        state = linear(state)\n",
    "    # Then, we execute the 5th and final round, which consists of the following\n",
    "    # operations: KeyAddition, Substitution, Transposition.\n",
    "    k5 = gen_subkey(key, 4, gen_subkey_func)\n",
    "    state = add_subkey(state, k5)\n",
    "    state = substitution(state, sub_func)\n",
    "    state = transposition(state)\n",
    "    # Finally, we perform a 6th KeyAddition to \"seal\" the ciphertext.\n",
    "    k6 = gen_subkey(key, 5, gen_subkey_func)\n",
    "    return add_subkey(state, k6)\n",
    "\n",
    "# Decryption function wrapper.\n",
    "def dec_aeslike(key, ciphertext, gen_subkey_func, sub_func):\n",
    "    # First, we set ciphertext as initial state vector.\n",
    "    state = copy(ciphertext)\n",
    "    # We invert the last KeyAddition that \"seals\" the ciphertext.\n",
    "    k6 = gen_subkey(key, 5, gen_subkey_func)\n",
    "    state = add_subkey(state, k6, inverse=True)\n",
    "    # Then, we invert the 5th round, by performing the following operations:\n",
    "    # Transposition, Substitution, KeyAddition.\n",
    "    state = transposition(state)\n",
    "    state = substitution(state, sub_func, inverse=True)\n",
    "    k5 = gen_subkey(key, 4, gen_subkey_func)\n",
    "    state = add_subkey(state, k5, inverse=True)\n",
    "    # Finally, we invert the remaining rounds, by performing the following operations:\n",
    "    # LinearTransformation, Transposition, Substitution, KeyAddition.\n",
    "    for i in range(4):\n",
    "        state = linear(state, inverse=True)\n",
    "        state = transposition(state)\n",
    "        state = substitution(state, sub_func, inverse=True)\n",
    "        ki = gen_subkey(key, 3-i, gen_subkey_func) # Reverse round number.\n",
    "        state = add_subkey(state, ki, inverse=True)\n",
    "    return state"
   ]
  },
  {
   "cell_type": "markdown",
   "metadata": {
    "collapsed": false
   },
   "source": [
    "## Linear instantiation of the AES\\-like cipher\n",
    "\n"
   ]
  },
  {
   "cell_type": "code",
   "execution_count": 3,
   "metadata": {
    "collapsed": false
   },
   "outputs": [
   ],
   "source": [
    "# For the linear instantiation, the key length is the same as the cipher\n",
    "# block size.\n",
    "keylength_linear = blocksize\n",
    "\n",
    "# Indexes of the master key for the subkey generation.\n",
    "# Note: these are 1-indexed, while all the computation are 0-indexed.\n",
    "subkey_indexes_linear = [\n",
    "    [1, 3, 5, 7],\n",
    "    [1, 2, 3, 4],\n",
    "    [1, 4, 5, 8],\n",
    "    [1, 4, 6, 7],\n",
    "    [1, 3, 6, 8],\n",
    "    [3, 4, 5, 6],\n",
    "]\n",
    "\n",
    "# Subkey generation function.\n",
    "def gen_subkey_linear(master_key, round_num):\n",
    "    # We construct the subkey for the given round number with the entries of\n",
    "    # master key, using the indexes at the corresponding row in subkey_indexes_linear.\n",
    "    subkey = []\n",
    "    for index in subkey_indexes_linear[round_num]:\n",
    "        subkey.append(master_key[index-1])\n",
    "    return vector(subkey)\n",
    "\n",
    "# Substitution function.\n",
    "def substitution_linear(state, inverse=False):\n",
    "    # We multiply (or divide) every element of the state vector by 2.\n",
    "    for i in range(len(state)):\n",
    "        if not inverse:\n",
    "            state[i] *= field(2)\n",
    "        else:\n",
    "            state[i] /= field(2)\n",
    "    return state\n",
    "\n",
    "# Encryption function.\n",
    "def enc_aeslike_linear(key, plaintext):\n",
    "    return enc_aeslike(key, plaintext, gen_subkey_linear, substitution_linear)\n",
    "\n",
    "# Decryption function.\n",
    "def dec_aeslike_linear(key, ciphertext):\n",
    "    return dec_aeslike(key, ciphertext, gen_subkey_linear, substitution_linear)"
   ]
  },
  {
   "cell_type": "markdown",
   "metadata": {
    "collapsed": false
   },
   "source": [
    "#### Linear instantiation implementation correctness check\n",
    "\n"
   ]
  },
  {
   "cell_type": "code",
   "execution_count": 4,
   "metadata": {
    "collapsed": false
   },
   "outputs": [
    {
     "name": "stdout",
     "output_type": "stream",
     "text": [
      "Linear instantiation, encryption implementation correctness check: PASS\n",
      "Linear instantiation, decryption implementation correctness check: PASS\n"
     ]
    }
   ],
   "source": [
    "# We initialize the test vectors (for the only test we have available).\n",
    "plaintext = vector(field, [1, 0, 0, 0, 0, 0, 0, 0])\n",
    "expected_ciphertext = vector(field, [4, 0, 0, 9, 7, 0, 0, 3])\n",
    "key = vector(field, [1, 0, 0, 0, 0, 0, 0, 0])\n",
    "\n",
    "# We execute the encryption and check if the result matches.\n",
    "ciphertext = enc_aeslike_linear(key, plaintext)\n",
    "\n",
    "if ciphertext == expected_ciphertext:\n",
    "    print('Linear instantiation, encryption implementation correctness check: PASS')\n",
    "else:\n",
    "    print('Linear instantiation, encryption implementation correctness check: FAIL')\n",
    "\n",
    "# We execute the decryption and check if we get back the original plaintext.\n",
    "recovered_plaintext = dec_aeslike_linear(key, ciphertext)\n",
    "if recovered_plaintext == plaintext:\n",
    "    print('Linear instantiation, decryption implementation correctness check: PASS')\n",
    "else:\n",
    "    print('Linear instantiation, decryption implementation correctness check: FAIL')"
   ]
  },
  {
   "cell_type": "markdown",
   "metadata": {
    "collapsed": false
   },
   "source": [
    "#### Breaking the linear instantiation \\(Task 3\\)\n",
    "\n"
   ]
  },
  {
   "cell_type": "code",
   "execution_count": 5,
   "metadata": {
    "collapsed": false
   },
   "outputs": [
    {
     "name": "stdout",
     "output_type": "stream",
     "text": [
      "The resulting matrices, which should provide the linear relationship in the\n",
      "linear instantiation of the AES-like cipher, are:\n",
      "Matrix A:\n",
      "[ 9  0  1  6  0  0  1 10]\n",
      "[ 0  8  6  2  2  9  0  0]\n",
      "[ 0  6  0  8  3 10  0  0]\n",
      "[ 6  0  0  8  0  1  6  6]\n",
      "[ 2  0  1 10  0  0  1  3]\n",
      "[ 0  1  8  4  9  6  0  0]\n",
      "[ 0 10  0  5  7  6  0  0]\n",
      "[ 3  0  0  1  0  1  4  8]\n",
      "Matrix B:\n",
      "[6 0 0 3 3 0 0 0]\n",
      "[0 6 3 0 0 3 0 0]\n",
      "[0 3 6 0 0 0 3 0]\n",
      "[3 0 0 6 0 0 0 3]\n",
      "[5 0 0 0 4 0 0 8]\n",
      "[0 5 0 0 0 4 8 0]\n",
      "[0 0 5 0 0 8 4 0]\n",
      "[0 0 0 5 8 0 0 4]\n"
     ]
    }
   ],
   "source": [
    "# The linear instantiation of the cipher can be reduced to the following linear\n",
    "# function.\n",
    "#\n",
    "#     ciphertext = MatrixA * key + MatrixB * plaintext\n",
    "#\n",
    "# Therefore, we want to find matrices A and B.\n",
    "\n",
    "# We find matrix A by setting the plaintext to the zero vector and the key\n",
    "# progressively to the next standard orthonormal basis vector. Basically, we\n",
    "# exploit the following expression.\n",
    "#\n",
    "#     ciphertext = MatrixA * key + MatrixB * 0\n",
    "#                = MatrixA * key\n",
    "#\n",
    "A_linear = Matrix(field, keylength_linear, keylength_linear)\n",
    "plaintext = vector(field, [0, 0, 0, 0, 0, 0, 0, 0])\n",
    "for i in range(keylength_linear):\n",
    "    key = vector(field, [0, 0, 0, 0, 0, 0, 0, 0])\n",
    "    key[i] = 1\n",
    "    A_linear.set_column(i, enc_aeslike_linear(key, plaintext))\n",
    "\n",
    "# Similarly, we find matrix B. In this case the roles of key and plaintext are\n",
    "# switched.\n",
    "B_linear = Matrix(field, blocksize, blocksize)\n",
    "key = vector(field, [0, 0, 0, 0, 0, 0, 0, 0])\n",
    "for i in range(blocksize):\n",
    "    plaintext = vector(field, [0, 0, 0, 0, 0, 0, 0, 0])\n",
    "    plaintext[i] = 1\n",
    "    B_linear.set_column(i, enc_aeslike_linear(key, plaintext))\n",
    "\n",
    "print('''The resulting matrices, which should provide the linear relationship in the\n",
    "linear instantiation of the AES-like cipher, are:''')\n",
    "print('Matrix A:')\n",
    "print(A_linear)\n",
    "print('Matrix B:')\n",
    "print(B_linear)"
   ]
  },
  {
   "cell_type": "code",
   "execution_count": 6,
   "metadata": {
    "collapsed": false
   },
   "outputs": [
    {
     "name": "stdout",
     "output_type": "stream",
     "text": [
      "Breaking the linear instantiation, correctness check: PASS\n",
      "Breaking the linear instantiation, key recovery check: PASS\n"
     ]
    }
   ],
   "source": [
    "# We initialize the test vectors (for the only test we have available).\n",
    "plaintext = vector(field, [1, 0, 0, 0, 0, 0, 0, 0])\n",
    "expected_ciphertext = vector(field, [4, 0, 0, 9, 7, 0, 0, 3])\n",
    "key = vector(field, [1, 0, 0, 0, 0, 0, 0, 0])\n",
    "\n",
    "# We check the correctness of the two matrices by verifying if the overall linear\n",
    "# relationship correctly encrypts the test vector plaintext.\n",
    "ciphertext = A_linear * key + B_linear * plaintext\n",
    "if ciphertext == expected_ciphertext:\n",
    "    print('Breaking the linear instantiation, correctness check: PASS')\n",
    "else:\n",
    "    print('Breaking the linear instantiation, correctness check: FAIL')\n",
    "\n",
    "# We verify that we can successfully recover the correct key exploiting the linear\n",
    "# relationship, using the two matrices.\n",
    "recovered_key = A_linear.inverse() * (ciphertext - B_linear * plaintext)\n",
    "if recovered_key == key:\n",
    "    print('Breaking the linear instantiation, key recovery check: PASS')\n",
    "else:\n",
    "    print('Breaking the linear instantiation, key recovery check: FAIL')"
   ]
  },
  {
   "cell_type": "markdown",
   "metadata": {
    "collapsed": false
   },
   "source": [
    "#### Known-plaintext attack to the linear instantiation \\(Task 4\\)\n",
    "\n"
   ]
  },
  {
   "cell_type": "code",
   "execution_count": 7,
   "metadata": {
    "collapsed": false
   },
   "outputs": [
    {
     "name": "stdout",
     "output_type": "stream",
     "text": [
      "The keys recovered using a known-plaintext attack on the linear\n",
      "instantiation of the AES-like cipher are:\n",
      "Key from KPA sample #1: (3, 2, 6, 5, 8, 9, 8, 10)\n",
      "Key from KPA sample #2: (3, 2, 6, 5, 8, 9, 8, 10)\n",
      "Key from KPA sample #3: (3, 2, 6, 5, 8, 9, 8, 10)\n",
      "Key from KPA sample #4: (3, 2, 6, 5, 8, 9, 8, 10)\n",
      "Key from KPA sample #5: (3, 2, 6, 5, 8, 9, 8, 10)\n",
      "Breaking the linear instantiation, known-plaintext attack: PASS\n"
     ]
    }
   ],
   "source": [
    "import ast\n",
    "\n",
    "# For each KPA sample provided in the KPApairsZUC_linear.txt file, we recover\n",
    "# the key using the matrices A and B we previously found.\n",
    "recovered_keys = []\n",
    "with open('KPApairsZUC_linear.txt') as KPA_data:\n",
    "    for KPA_sample in KPA_data:\n",
    "        plaintext_raw, ciphertext_raw = KPA_sample.rstrip().split('\\t')\n",
    "        plaintext = vector(field, ast.literal_eval(plaintext_raw))\n",
    "        ciphertext = vector(field, ast.literal_eval(ciphertext_raw))\n",
    "        recovered_keys.append(\n",
    "            A_linear.inverse() * (ciphertext - B_linear * plaintext)\n",
    "        )\n",
    "\n",
    "print('''The keys recovered using a known-plaintext attack on the linear\n",
    "instantiation of the AES-like cipher are:''')\n",
    "for i, key in enumerate(recovered_keys):\n",
    "    print(f'Key from KPA sample #{i+1}: {key}')\n",
    "\n",
    "# Since we know that all the given samples should be encrypted with the same key,\n",
    "# we check the we indeed recovered the same key from all KPA samples.\n",
    "if all(key == recovered_keys[0] for key in recovered_keys):\n",
    "    print('Breaking the linear instantiation, known-plaintext attack: PASS')\n",
    "else:\n",
    "    print('Breaking the linear instantiation, known-plaintext attack: FAIL')"
   ]
  },
  {
   "cell_type": "markdown",
   "metadata": {
    "collapsed": false
   },
   "source": [
    "## Nearly linear instantiation of the AES\\-like cipher (Task 5)\n",
    "\n"
   ]
  },
  {
   "cell_type": "code",
   "execution_count": 8,
   "metadata": {
    "collapsed": false
   },
   "outputs": [
   ],
   "source": [
    "# For the nearly linear instantiation, the key length is the same as the\n",
    "# cipher block size.\n",
    "keylength_nearly_linear = blocksize\n",
    "\n",
    "# In the nearly linear instantiation we use the following table to perform\n",
    "# the substitution function (and its inverse).\n",
    "substitution_table = {0:0, 1:2, 2:4, 3:8, 4:6, 5:10, 6:1, 7:3, 8:5, 9:7, 10:9}\n",
    "inverse_substitution_table = {0:0, 1:6, 2:1, 3:7, 4:2, 5:8, 6:4, 7:9, 8:3, 9:10, 10:5}\n",
    "\n",
    "# Subkey generation function.\n",
    "# Note: the nearly linear instantiation uses the same function as the\n",
    "# linear instantiation.\n",
    "def gen_subkey_nearly_linear(master_key, round_num):\n",
    "    return gen_subkey_linear(master_key, round_num)\n",
    "\n",
    "# Substitution function.\n",
    "def substitution_nearly_linear(state, inverse=False):\n",
    "    for i in range(len(state)):\n",
    "        if not inverse:\n",
    "            state[i] = substitution_table[state[i]]\n",
    "        else:\n",
    "            state[i] = inverse_substitution_table[state[i]]\n",
    "    return state\n",
    "\n",
    "# Encryption function.\n",
    "def enc_aeslike_nearly_linear(key, plaintext):\n",
    "    return enc_aeslike(key, plaintext, gen_subkey_linear, substitution_nearly_linear)\n",
    "\n",
    "# Decryption function.\n",
    "def dec_aeslike_nearly_linear(key, ciphertext):\n",
    "    return dec_aeslike(key, ciphertext, gen_subkey_linear, substitution_nearly_linear)"
   ]
  },
  {
   "cell_type": "markdown",
   "metadata": {
    "collapsed": false
   },
   "source": [
    "#### Nearly linear instantiation implementation correctness check\n",
    "\n"
   ]
  },
  {
   "cell_type": "code",
   "execution_count": 9,
   "metadata": {
    "collapsed": false
   },
   "outputs": [
    {
     "name": "stdout",
     "output_type": "stream",
     "text": [
      "Nearly linear instantiation, encryption implementation correctness check: PASS\n",
      "Nearly linear instantiation, decryption implementation correctness check: PASS\n"
     ]
    }
   ],
   "source": [
    "# We initialize the test vectors (for the only test we have available).\n",
    "plaintext = vector(field, [1, 0, 0, 0, 0, 0, 0, 0])\n",
    "expected_ciphertext = vector(field, [9, 0, 0, 0, 5, 0, 0, 6])\n",
    "key = vector(field, [1, 0, 0, 0, 0, 0, 0, 0])\n",
    "\n",
    "# We execute the encryption and check if the result matches.\n",
    "ciphertext = enc_aeslike_nearly_linear(key, plaintext)\n",
    "if ciphertext == expected_ciphertext:\n",
    "    print('Nearly linear instantiation, encryption implementation correctness check: PASS')\n",
    "else:\n",
    "    print('Nearly linear instantiation, encryption implementation correctness check: FAIL')\n",
    "\n",
    "# We execute the decryption and check if we get back the original plaintext.\n",
    "recovered_plaintext = dec_aeslike_nearly_linear(key, ciphertext)\n",
    "if recovered_plaintext == plaintext:\n",
    "    print('Nearly linear instantiation, decryption implementation correctness check: PASS')\n",
    "else:\n",
    "    print('Nearly linear instantiation, decryption implementation correctness check: FAIL')"
   ]
  },
  {
   "cell_type": "markdown",
   "metadata": {
    "collapsed": false
   },
   "source": [
    "#### Breaking the nearly linear instantiation \\(Task 6\\)\n",
    "\n"
   ]
  },
  {
   "cell_type": "code",
   "execution_count": 13,
   "metadata": {
    "collapsed": false
   },
   "outputs": [
    {
     "name": "stdout",
     "output_type": "stream",
     "text": [
      "Generated 50000 plaintexts and keys to test the approximation (took 7.67 s)\n"
     ]
    },
    {
     "name": "stdout",
     "output_type": "stream",
     "text": [
      "Approximation success probability: 0.0380 % (took 151.18 s)\n",
      "Ratio of approximation success probability wrt randomly picking a ciphertext: 8.1e+04\n"
     ]
    }
   ],
   "source": [
    "# Since for 9 values out 11 the substitution table of nearly linear\n",
    "# instantiation of the cipher gives the same values as the substitution\n",
    "# function of the linear instantiation, we assume that the linear\n",
    "# instantiation is a good linear approximation of the nearly linear\n",
    "# instantiation. (<- This sentence is a bit wordy. A better explanation\n",
    "# is given in the report.)\n",
    "A_nearly_linear, B_nearly_linear = copy(A_linear), copy(B_linear)\n",
    "\n",
    "import time\n",
    "def evaluate_linear_relation_approximation(A, B, enc_func, runs):\n",
    "    # We generate many random plaintexts and corresponding encryption keys.\n",
    "    start_time = time.time()\n",
    "    approximation_test_runs = runs\n",
    "    approximation_test_plaintexts = [random_vector(field, blocksize) for _ in range(approximation_test_runs)]\n",
    "    approximation_test_keys = [random_vector(field, keylength_nearly_linear) for _ in range(approximation_test_runs)]\n",
    "    end_time = time.time()\n",
    "    print(f'Generated {approximation_test_runs} plaintexts and keys to test the approximation (took {end_time - start_time:.2f} s)')\n",
    "    # We encrypt each plaintext with its corresponding encryption key, both\n",
    "    # using the approximating matrices and using the true encryption function.\n",
    "    # When both results in the same ciphertext, we increment the number of\n",
    "    # successful approximations.\n",
    "    start_time = time.time()\n",
    "    approximation_test_successes = 0\n",
    "    for i in range(approximation_test_runs):\n",
    "        approximated_ciphertext = A * approximation_test_keys[i] + B * approximation_test_plaintexts[i]\n",
    "        expected_ciphertext = enc_func(approximation_test_keys[i], approximation_test_plaintexts[i])\n",
    "        if approximated_ciphertext == expected_ciphertext:\n",
    "            approximation_test_successes += 1\n",
    "    end_time = time.time()\n",
    "    approximation_test_prob = float(approximation_test_successes / approximation_test_runs)\n",
    "    print(f'Approximation success probability: {100 * approximation_test_prob:.4f} % (took {end_time - start_time:.2f} s)')\n",
    "    # We compute the ratio between the estimated success probability of\n",
    "    # the approximation and the probability of correctly guessing a random\n",
    "    # ciphertext.\n",
    "    if approximation_test_prob > 0:\n",
    "        approximation_test_ratio = float(approximation_test_prob / (1 / pow(p, blocksize)))\n",
    "        print(f'Ratio of approximation success probability wrt randomly picking a ciphertext: {approximation_test_ratio:.2g}')\n",
    "    return approximation_test_prob\n",
    "\n",
    "# Note: this computation requires a lot of time, so higher values of the\n",
    "# `runs` parameter may be tested on a local machine or with a non-free tier\n",
    "# CoCalc subscription.\n",
    "_ = evaluate_linear_relation_approximation(\n",
    "    A_nearly_linear, B_nearly_linear,\n",
    "    enc_aeslike_nearly_linear,\n",
    "    50_000\n",
    ")"
   ]
  },
  {
   "cell_type": "markdown",
   "metadata": {
    "collapsed": false
   },
   "source": [
    "## Non\\-linear instantiation of the AES\\-like cipher \\(Task 7\\)\n",
    "\n"
   ]
  },
  {
   "cell_type": "code",
   "execution_count": 12,
   "metadata": {
    "collapsed": false
   },
   "outputs": [
   ],
   "source": [
    "# For the non-linear instantiation, the key length is half the cipher\n",
    "# block size.\n",
    "keylength_nonlinear = int(blocksize/2)\n",
    "\n",
    "# Indexes of the master key for the subkey generation.\n",
    "# Note: these are 1-indexed, while all the computation are 0-indexed.\n",
    "subkey_indexes_nonlinear = [\n",
    "    [1, 2, 3, 4],\n",
    "    [1, 2, 4, 3],\n",
    "    [2, 3, 4, 1],\n",
    "    [1, 4, 2, 3],\n",
    "    [3, 4, 1, 2],\n",
    "    [2, 4, 1, 3],\n",
    "]\n",
    "\n",
    "# Subkey generation function.\n",
    "def gen_subkey_nonlinear(master_key, round_num):\n",
    "    # We construct the subkey for the given round number with the entries of master\n",
    "    # key, using the indexes at the corresponding row in subkey_indexes_nonlinear.\n",
    "    subkey = []\n",
    "    for index in subkey_indexes_nonlinear[round_num]:\n",
    "        subkey.append(master_key[index-1])\n",
    "    return vector(subkey)\n",
    "\n",
    "# Substitution function.\n",
    "def substitution_nonlinear(state, inverse=False):\n",
    "    for i in range(len(state)):\n",
    "        # If the current element is zero, we define its inverse to be zero, hence\n",
    "        # no modification is necessary.\n",
    "        if state[i] == 0:\n",
    "            continue\n",
    "        # Otherwise, first (or last) we take the inverse of the current element of\n",
    "        # the state vector, and then (or first) we multiply (or divide) it by 2.\n",
    "        if not inverse:\n",
    "            state[i] = 2 * state[i].inverse()\n",
    "        else:\n",
    "            state[i] = (state[i] / 2).inverse()\n",
    "    return state\n",
    "\n",
    "# Encryption function.\n",
    "def enc_aeslike_nonlinear(key, plaintext):\n",
    "    return enc_aeslike(key, plaintext, gen_subkey_nonlinear, substitution_nonlinear)\n",
    "\n",
    "# Decryption function.\n",
    "def dec_aeslike_nonlinear(key, ciphertext):\n",
    "    return dec_aeslike(key, ciphertext, gen_subkey_nonlinear, substitution_nonlinear)"
   ]
  },
  {
   "cell_type": "markdown",
   "metadata": {
    "collapsed": false
   },
   "source": [
    "#### Non-linear instantiation implementation correctness check\n",
    "\n"
   ]
  },
  {
   "cell_type": "code",
   "execution_count": 14,
   "metadata": {
    "collapsed": false
   },
   "outputs": [
    {
     "name": "stdout",
     "output_type": "stream",
     "text": [
      "Non-linear instantiation, encryption implementation correctness check: PASS\n",
      "Non-linear instantiation, decryption implementation correctness check: PASS\n"
     ]
    }
   ],
   "source": [
    "# We initialize the test vectors (for the only test we have available).\n",
    "plaintext = vector(field, [1, 0, 0, 0, 0, 0, 0, 0])\n",
    "expected_ciphertext = vector(field, [5, 0, 3, 2, 5, 2, 1, 1])\n",
    "key = vector(field, [1, 0, 0, 0])\n",
    "\n",
    "# We execute the encryption and check if the result matches.\n",
    "ciphertext = enc_aeslike_nonlinear(key, plaintext)\n",
    "if ciphertext == expected_ciphertext:\n",
    "    print('Non-linear instantiation, encryption implementation correctness check: PASS')\n",
    "else:\n",
    "    print('Non-linear instantiation, encryption implementation correctness check: FAIL')\n",
    "\n",
    "# We execute the decryption and check if we get back the original plaintext.\n",
    "recovered_plaintext = dec_aeslike_nonlinear(key, ciphertext)\n",
    "if recovered_plaintext == plaintext:\n",
    "    print('Non-linear instantiation, decryption implementation correctness check: PASS')\n",
    "else:\n",
    "    print('Non-linear instantiation, decryption implementation correctness check: FAIL')"
   ]
  },
  {
   "cell_type": "markdown",
   "metadata": {
    "collapsed": false
   },
   "source": [
    "#### Breaking the non-linear instantiation via meet-in-the-middle attack \\(Task 8\\)\n",
    "\n"
   ]
  },
  {
   "cell_type": "code",
   "execution_count": 32,
   "metadata": {
    "collapsed": false
   },
   "outputs": [
    {
     "name": "stdout",
     "output_type": "stream",
     "text": [
      "Meet-in-the-middle implementation test, original plaintext: (2, 6, 10, 3, 10, 2, 10, 0)\n",
      "Meet-in-the-middle implementation test, original key: ((3, 10, 0, 2), (8, 2, 2, 8))\n",
      "Meet-in-the-middle implementation test, original ciphertext: (8, 9, 1, 0, 10, 9, 3, 10)\n"
     ]
    },
    {
     "name": "stdout",
     "output_type": "stream",
     "text": [
      "Meet-in-the-middle implementation test, found 2 candidate keys\n",
      "Meet-in-the-middle implementation test, candidate key #1: ((1, 6, 8, 4), (2, 10, 8, 1))\n",
      "Meet-in-the-middle implementation test, candidate key #1 is INCORRECT\n",
      "Meet-in-the-middle implementation test, candidate key #2: ((3, 10, 0, 2), (8, 2, 2, 8))\n",
      "Meet-in-the-middle implementation test, candidate key #2 is CORRECT\n"
     ]
    }
   ],
   "source": [
    "# We initialize a random test vector to verify the correctness of our\n",
    "# implementation of the meet-in-the-middle procedure.\n",
    "mitm_origin_plaintext = random_vector(field, blocksize)\n",
    "mitm_origin_k1 = random_vector(field, keylength_nonlinear)\n",
    "mitm_origin_k2 = random_vector(field, keylength_nonlinear)\n",
    "mitm_origin_ciphertext = enc_aeslike_nonlinear(\n",
    "    mitm_origin_k2, enc_aeslike_nonlinear(mitm_origin_k1, mitm_origin_plaintext)\n",
    ")\n",
    "\n",
    "print(f'Meet-in-the-middle implementation test, original plaintext: {mitm_origin_plaintext}')\n",
    "print(f'Meet-in-the-middle implementation test, original key: ({mitm_origin_k1}, {mitm_origin_k2})')\n",
    "print(f'Meet-in-the-middle implementation test, original ciphertext: {mitm_origin_ciphertext}')\n",
    "\n",
    "# We generate all possible encryption and decryption keys.\n",
    "# Note: the total number of keys is 11^4 + 11^4.\n",
    "import itertools\n",
    "mitm_enc_keys = [vector(field, v) for v in itertools.product(range(p), repeat=keylength_nonlinear)]\n",
    "mitm_dec_keys = [vector(field, v) for v in itertools.product(range(p), repeat=keylength_nonlinear)]\n",
    "\n",
    "# We encrypt the plaintext test vector we all possible encryption keys.\n",
    "mitm_ciphertexts = dict()\n",
    "for i, enc_key in enumerate(mitm_enc_keys):\n",
    "    mitm_ciphertext = enc_aeslike_nonlinear(enc_key, mitm_origin_plaintext)\n",
    "    mitm_ciphertext.set_immutable()\n",
    "    mitm_ciphertexts[mitm_ciphertext] = i\n",
    "\n",
    "# We decrypt the ciphertext test vector we all possible decryption keys,\n",
    "# then we check if the result of the decryption is equal to one of the\n",
    "# encryptions of the plaintext we performed above. If so, we add the\n",
    "# corresponding keys to the set of candidate keys.\n",
    "mitm_candidate_keys = []\n",
    "for dec_key in mitm_dec_keys:\n",
    "    mitm_plaintext = dec_aeslike_nonlinear(dec_key, mitm_origin_ciphertext)\n",
    "    mitm_plaintext.set_immutable()\n",
    "    if mitm_plaintext in mitm_ciphertexts:\n",
    "        mitm_candidate_keys.append(\n",
    "            (mitm_enc_keys[mitm_ciphertexts[mitm_plaintext]], dec_key)\n",
    "        )\n",
    "\n",
    "# We loop through all the candidate keys we've found and we check whether\n",
    "# they are correct or not.\n",
    "# The implementation test is successful if one, and only one, candidate key\n",
    "# results correct.\n",
    "print(f'Meet-in-the-middle implementation test, found {len(mitm_candidate_keys)} candidate keys')\n",
    "for i, candidate_key in enumerate(mitm_candidate_keys):\n",
    "    print(f'Meet-in-the-middle implementation test, candidate key #{i+1}: ({candidate_key[0]}, {candidate_key[1]})')\n",
    "    if candidate_key[0] == mitm_origin_k1 and candidate_key[1] == mitm_origin_k2:\n",
    "        print(f'Meet-in-the-middle implementation test, candidate key #{i+1} is CORRECT')\n",
    "    else:\n",
    "        print(f'Meet-in-the-middle implementation test, candidate key #{i+1} is INCORRECT')"
   ]
  },
  {
   "cell_type": "code",
   "execution_count": 35,
   "metadata": {
    "collapsed": false
   },
   "outputs": [
    {
     "name": "stdout",
     "output_type": "stream",
     "text": [
      "Meet-in-the-middle, original plaintext #1: (1, 8, 3, 2, 2, 0, 6, 4)\n",
      "Meet-in-the-middle, original ciphertext #1: (7, 3, 7, 6, 2, 9, 2, 4)\n",
      "Meet-in-the-middle, original plaintext #2: (8, 5, 4, 0, 2, 5, 4, 9)\n",
      "Meet-in-the-middle, original ciphertext #2: (10, 2, 3, 9, 6, 3, 9, 4)\n",
      "Meet-in-the-middle, original plaintext #3: (0, 4, 5, 1, 5, 9, 2, 1)\n",
      "Meet-in-the-middle, original ciphertext #3: (6, 4, 1, 0, 9, 10, 6, 1)\n",
      "Meet-in-the-middle, original plaintext #4: (0, 7, 0, 3, 10, 8, 2, 7)\n",
      "Meet-in-the-middle, original ciphertext #4: (2, 5, 2, 2, 6, 6, 2, 10)\n",
      "Meet-in-the-middle, original plaintext #5: (1, 6, 9, 9, 3, 5, 7, 7)\n",
      "Meet-in-the-middle, original ciphertext #5: (2, 6, 1, 2, 4, 6, 7, 8)\n"
     ]
    },
    {
     "name": "stdout",
     "output_type": "stream",
     "text": [
      "Meet-in-the-middle, found 2 candidate keys\n",
      "Meet-in-the-middle, candidate key #1: ((8, 10, 1, 7), (0, 8, 5, 7))\n",
      "Meet-in-the-middle, candidate key #1 is INCORRECT\n",
      "Meet-in-the-middle, candidate key #2: ((10, 6, 1, 6), (2, 8, 9, 3))\n",
      "Meet-in-the-middle, candidate key #2 is CORRECT\n"
     ]
    }
   ],
   "source": [
    "# Here, we repeat the same procedure as above, but this time we use the\n",
    "# five given plaintext-ciphertext pairs.\n",
    "\n",
    "import ast\n",
    "import itertools\n",
    "\n",
    "# TODO(simone): comment\n",
    "mitm_origin_plaintexts = []\n",
    "mitm_origin_ciphertexts = []\n",
    "with open('KPApairsZUC_non_linear.txt') as KPA_data:\n",
    "    for KPA_sample in KPA_data:\n",
    "        plaintext_raw, ciphertext_raw = KPA_sample.rstrip().split('\\t')\n",
    "        plaintext = vector(field, ast.literal_eval(plaintext_raw))\n",
    "        ciphertext = vector(field, ast.literal_eval(ciphertext_raw))\n",
    "        mitm_origin_plaintexts.append(plaintext)\n",
    "        mitm_origin_ciphertexts.append(ciphertext)\n",
    "\n",
    "for i in range(len(mitm_origin_plaintexts)):\n",
    "    print(f'Meet-in-the-middle, original plaintext #{i+1}: {mitm_origin_plaintexts[i]}')\n",
    "    print(f'Meet-in-the-middle, original ciphertext #{i+1}: {mitm_origin_ciphertexts[i]}')\n",
    "\n",
    "# We generate all possible encryption and decryption keys.\n",
    "# Note: the total number of keys is 11^4 + 11^4.\n",
    "mitm_enc_keys = [vector(field, v) for v in itertools.product(range(p), repeat=keylength_nonlinear)]\n",
    "mitm_dec_keys = [vector(field, v) for v in itertools.product(range(p), repeat=keylength_nonlinear)]\n",
    "\n",
    "# We encrypt the plaintext test vector we all possible encryption keys.\n",
    "mitm_ciphertexts = dict()\n",
    "for i, enc_key in enumerate(mitm_enc_keys):\n",
    "    mitm_ciphertext = enc_aeslike_nonlinear(enc_key, mitm_origin_plaintexts[0])\n",
    "    mitm_ciphertext.set_immutable()\n",
    "    mitm_ciphertexts[mitm_ciphertext] = i\n",
    "\n",
    "# We decrypt the ciphertext test vector we all possible decryption keys,\n",
    "# then we check if the result of the decryption is equal to one of the\n",
    "# encryptions of the plaintext we performed above. If so, we add the\n",
    "# corresponding keys to the set of candidate keys.\n",
    "mitm_candidate_keys = []\n",
    "for dec_key in mitm_dec_keys:\n",
    "    mitm_plaintext = dec_aeslike_nonlinear(dec_key, mitm_origin_ciphertexts[0])\n",
    "    mitm_plaintext.set_immutable()\n",
    "    if mitm_plaintext in mitm_ciphertexts:\n",
    "        mitm_candidate_keys.append(\n",
    "            (mitm_enc_keys[mitm_ciphertexts[mitm_plaintext]], dec_key)\n",
    "        )\n",
    "\n",
    "# We loop through all the candidate keys we've found and for each of\n",
    "# these we perform two checks as explained below, if both pass the\n",
    "# corresponding candidate key is the considered the correct one.\n",
    "print(f'Meet-in-the-middle, found {len(mitm_candidate_keys)} candidate keys')\n",
    "for i, candidate_key in enumerate(mitm_candidate_keys):\n",
    "    print(f'Meet-in-the-middle, candidate key #{i+1}: ({candidate_key[0]}, {candidate_key[1]})')\n",
    "    candidate_key_is_correct = True\n",
    "    for j in range(len(mitm_origin_plaintexts)):\n",
    "        # First check: the candidate key must correctly encrypt the\n",
    "        # plaintext to the corresponding ciphertext.\n",
    "        candidate_ciphertext = enc_aeslike_nonlinear(\n",
    "            candidate_key[1], enc_aeslike_nonlinear(candidate_key[0], mitm_origin_plaintexts[j])\n",
    "        )\n",
    "        if candidate_ciphertext != mitm_origin_ciphertexts[j]:\n",
    "            candidate_key_is_correct = False\n",
    "            break\n",
    "        # Second check: the candidate key must correctly decrypt the\n",
    "        # ciphertext to the corresponding plaintext.\n",
    "        candidate_plaintext = dec_aeslike_nonlinear(\n",
    "            candidate_key[0], dec_aeslike_nonlinear(candidate_key[1], mitm_origin_ciphertexts[j])\n",
    "        )\n",
    "        if candidate_plaintext != mitm_origin_plaintexts[j]:\n",
    "            candidate_key_is_correct = False\n",
    "            break\n",
    "    # If both the above checks pass, the current candidate key is the\n",
    "    # considered correct.\n",
    "    # Note: only one candidate key should turns out to be correct.\n",
    "    if candidate_key_is_correct:\n",
    "        print(f'Meet-in-the-middle, candidate key #{i+1} is CORRECT')\n",
    "    else:\n",
    "        print(f'Meet-in-the-middle, candidate key #{i+1} is INCORRECT')"
   ]
  }
 ],
 "metadata": {
  "kernelspec": {
   "argv": [
    "sage-10.3",
    "--python",
    "-m",
    "sage.repl.ipython_kernel",
    "--matplotlib=inline",
    "-f",
    "{connection_file}"
   ],
   "display_name": "SageMath 10.3",
   "env": {
   },
   "language": "sagemath",
   "metadata": {
    "cocalc": {
     "description": "Open-source mathematical software system",
     "priority": 10,
     "url": "https://www.sagemath.org/"
    }
   },
   "name": "sage-10.3",
   "resource_dir": "/ext/jupyter/kernels/sage-10.3"
  },
  "language_info": {
   "codemirror_mode": {
    "name": "ipython",
    "version": 3
   },
   "file_extension": ".py",
   "mimetype": "text/x-python",
   "name": "python",
   "nbconvert_exporter": "python",
   "pygments_lexer": "ipython3",
   "version": "3.11.1"
  }
 },
 "nbformat": 4,
 "nbformat_minor": 4
}